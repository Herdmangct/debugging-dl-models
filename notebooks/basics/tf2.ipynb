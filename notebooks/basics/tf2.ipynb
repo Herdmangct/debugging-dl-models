{
 "cells": [
  {
   "cell_type": "code",
   "execution_count": 1,
   "id": "8361b795-bdab-443d-859e-1cf492e37230",
   "metadata": {},
   "outputs": [],
   "source": [
    "import tensorflow as tf"
   ]
  },
  {
   "cell_type": "code",
   "execution_count": 2,
   "id": "b038c783-d549-4dc4-8997-e9dec3b0fb1b",
   "metadata": {},
   "outputs": [],
   "source": [
    "mnist = tf.keras.datasets.mnist"
   ]
  },
  {
   "cell_type": "code",
   "execution_count": 4,
   "id": "af6a8690-69d9-4e3f-92ac-98cf52ffe966",
   "metadata": {},
   "outputs": [
    {
     "name": "stdout",
     "output_type": "stream",
     "text": [
      "Downloading data from https://storage.googleapis.com/tensorflow/tf-keras-datasets/mnist.npz\n",
      "11493376/11490434 [==============================] - 3s 0us/step\n",
      "11501568/11490434 [==============================] - 3s 0us/step\n"
     ]
    }
   ],
   "source": [
    "(x_train, y_train), (x_test, y_test) = mnist.load_data()\n",
    "\n",
    "# Normalize the data\n",
    "x_train, x_test = x_train / 255., x_test / 255."
   ]
  },
  {
   "cell_type": "code",
   "execution_count": 6,
   "id": "658f19b2-4a96-4dc9-8124-7ebb3f058190",
   "metadata": {},
   "outputs": [],
   "source": [
    "x_train, y_train, x_test, y_test = x_train[:1000], y_train[:1000], x_test[:1000], y_test[:1000]"
   ]
  },
  {
   "cell_type": "code",
   "execution_count": 7,
   "id": "96b58a68-5721-494b-9fea-606322fa0c9b",
   "metadata": {},
   "outputs": [
    {
     "data": {
      "text/plain": [
       "(1000, 28, 28)"
      ]
     },
     "execution_count": 7,
     "metadata": {},
     "output_type": "execute_result"
    }
   ],
   "source": [
    "x_train.shape"
   ]
  },
  {
   "cell_type": "code",
   "execution_count": 8,
   "id": "acc348bf-0003-4a61-8552-5ed03430a994",
   "metadata": {},
   "outputs": [],
   "source": [
    "x_train = tf.expand_dims(x_train.astype(\"float32\"), axis=-1)\n",
    "x_test = tf.expand_dims(x_test.astype(\"float32\"), axis=-1)"
   ]
  },
  {
   "cell_type": "code",
   "execution_count": 9,
   "id": "828dc1c6-d186-40f3-bd0a-a78ca034c729",
   "metadata": {},
   "outputs": [],
   "source": [
    "train_ds = tf.data.Dataset.from_tensor_slices((x_train, y_train)).shuffle(1000).batch(32)\n",
    "test_ds = tf.data.Dataset.from_tensor_slices((x_test, y_test)).batch(32)"
   ]
  },
  {
   "cell_type": "code",
   "execution_count": 10,
   "id": "d47e3a5c-7bf8-49ab-a73a-05fc4f338ae0",
   "metadata": {},
   "outputs": [
    {
     "data": {
      "text/plain": [
       "TensorShape([1000, 28, 28, 1])"
      ]
     },
     "execution_count": 10,
     "metadata": {},
     "output_type": "execute_result"
    }
   ],
   "source": [
    "x_train.shape"
   ]
  },
  {
   "cell_type": "code",
   "execution_count": 11,
   "id": "553660f6-383c-49a3-883e-5bf70a49cf7e",
   "metadata": {},
   "outputs": [],
   "source": [
    "# Write the model\n",
    "class MyModel(tf.keras.Model):\n",
    "    \n",
    "    def __init__(self, loss, optimizer):\n",
    "        super().__init__()\n",
    "        self.conv1 = tf.keras.layers.Conv2D(32, (3, 3), activation=\"relu\")\n",
    "        self.flatten = tf.keras.layers.Flatten()\n",
    "        self.d1 = tf.keras.layers.Dense(128, activation=\"relu\")\n",
    "        self.d2 = tf.keras.layers.Dense(10)\n",
    "        \n",
    "        self.loss = loss\n",
    "        self.optimizer = optimizer\n",
    "        \n",
    "    def call(self, x):\n",
    "        x = self.conv1(x)\n",
    "        x = self.flatten(x)\n",
    "        x = self.d1(x)\n",
    "        return self.d2(x)\n",
    "    \n",
    "    # fit step \n",
    "    def train_step(self, images, labels):\n",
    "        with tf.GradientTape() as tape: \n",
    "            predictions = self.call(images)\n",
    "            loss = self.loss(labels, predictions)\n",
    "        gradients = tape.gradient(loss, self.trainable_variables)\n",
    "        self.optimizer.apply_gradients(zip(gradients, self.trainable_variables))\n",
    "        return predictions, loss, gradients\n",
    "    \n",
    "    def test_step(self, images, labels):\n",
    "        predictions = self.call(images)\n",
    "        loss = self.loss(labels, predictions)\n",
    "        return predictions, loss\n",
    "    \n",
    "    "
   ]
  },
  {
   "cell_type": "code",
   "execution_count": 13,
   "id": "ee9a8c21-551f-4e9c-9bd3-6d062b4255d4",
   "metadata": {},
   "outputs": [],
   "source": [
    "loss_object = tf.keras.losses.SparseCategoricalCrossentropy(from_logits=True)\n",
    "optimizer = tf.keras.optimizers.Adam()"
   ]
  },
  {
   "cell_type": "code",
   "execution_count": 14,
   "id": "e26e2503-8b58-4c46-a85d-ce6db4ce8e9e",
   "metadata": {},
   "outputs": [],
   "source": [
    "my_model = MyModel(loss=loss_object, optimizer=optimizer)"
   ]
  },
  {
   "cell_type": "code",
   "execution_count": 16,
   "id": "423faa01-3863-43fd-8196-3fd29e55a937",
   "metadata": {},
   "outputs": [],
   "source": [
    "train_loss = tf.keras.metrics.Mean()\n",
    "test_loss = tf.keras.metrics.Mean()\n",
    "\n",
    "train_accuracy = tf.keras.metrics.SparseCategoricalAccuracy()\n",
    "test_accuracy = tf.keras.metrics.SparseCategoricalAccuracy()"
   ]
  },
  {
   "cell_type": "code",
   "execution_count": 20,
   "id": "b321929b-3a2a-44e4-8780-56a87063eaa3",
   "metadata": {},
   "outputs": [
    {
     "name": "stdout",
     "output_type": "stream",
     "text": [
      "Epoch 1, Train loss: 0.0015438738046213984, Test loss: 0.4732486307621002, Train accuracy: 1.0, Test accuracy: 0.8840000033378601\n",
      "Epoch 2, Train loss: 0.0012891648802906275, Test loss: 0.48155179619789124, Train accuracy: 1.0, Test accuracy: 0.8840000033378601\n",
      "Epoch 3, Train loss: 0.001057018293067813, Test loss: 0.4852418601512909, Train accuracy: 1.0, Test accuracy: 0.8809999823570251\n",
      "Epoch 4, Train loss: 0.000890868017449975, Test loss: 0.4898553490638733, Train accuracy: 1.0, Test accuracy: 0.8849999904632568\n",
      "Epoch 5, Train loss: 0.000672508031129837, Test loss: 0.49300500750541687, Train accuracy: 1.0, Test accuracy: 0.8870000243186951\n"
     ]
    }
   ],
   "source": [
    "EPOCHS = 5\n",
    "\n",
    "writer = tf.summary.create_file_writer('summary/run1')\n",
    "\n",
    "for epoch in range(EPOCHS):\n",
    "    # Reset the metrics at the start of the epoch\n",
    "    train_loss.reset_states()\n",
    "    test_loss.reset_states()\n",
    "    train_accuracy.reset_states()\n",
    "    test_accuracy.reset_states()\n",
    "    \n",
    "    for train_images, train_labels in train_ds:\n",
    "        pred_train, loss_train, grads_train = my_model.train_step(train_images, train_labels)\n",
    "        train_loss(loss_train)\n",
    "        train_accuracy(train_labels, pred_train)\n",
    "        \n",
    "    for test_images, test_labels in test_ds:\n",
    "        pred_test, loss_test = my_model.test_step(test_images, test_labels)\n",
    "        test_loss(loss_test)\n",
    "        test_accuracy(test_labels, pred_test)\n",
    "        \n",
    "    with writer.as_default():\n",
    "        tf.summary.scalar('Train loss', train_loss.result(), step=epoch)\n",
    "        tf.summary.scalar('Test loss', test_loss.result(), step=epoch)\n",
    "        tf.summary.scalar('Train accuracy', train_accuracy.result(), step=epoch)\n",
    "        tf.summary.scalar('Test accuracy', test_accuracy.result(), step=epoch)\n",
    "        \n",
    "    message = (\n",
    "        f'Epoch {epoch + 1}, Train loss: {train_loss.result()}, '\n",
    "        f'Test loss: {test_loss.result()}, '\n",
    "        f'Train accuracy: {train_accuracy.result()}, '\n",
    "        f'Test accuracy: {test_accuracy.result()}'\n",
    "    )\n",
    "    print(message)"
   ]
  },
  {
   "cell_type": "markdown",
   "id": "943490df-55f2-40fd-8364-382ceea8ab45",
   "metadata": {},
   "source": [
    "### Get Access to the tensorboard\n",
    "$ tensorboard --logdir=summary"
   ]
  },
  {
   "cell_type": "code",
   "execution_count": null,
   "id": "f5c97503-abb9-4b2e-a1f0-43f2d0bd645b",
   "metadata": {},
   "outputs": [],
   "source": []
  },
  {
   "cell_type": "code",
   "execution_count": null,
   "id": "58096ee4-fb89-4e0c-afaf-df78e75e8fca",
   "metadata": {},
   "outputs": [],
   "source": []
  },
  {
   "cell_type": "code",
   "execution_count": null,
   "id": "f14a7c64-11d9-49f4-8f40-c87998cc4b32",
   "metadata": {},
   "outputs": [],
   "source": []
  },
  {
   "cell_type": "code",
   "execution_count": null,
   "id": "a529628f-d2a1-42aa-8f8b-d9b9c3b9b9ea",
   "metadata": {},
   "outputs": [],
   "source": []
  }
 ],
 "metadata": {
  "kernelspec": {
   "display_name": "Python 3",
   "language": "python",
   "name": "python3"
  },
  "language_info": {
   "codemirror_mode": {
    "name": "ipython",
    "version": 3
   },
   "file_extension": ".py",
   "mimetype": "text/x-python",
   "name": "python",
   "nbconvert_exporter": "python",
   "pygments_lexer": "ipython3",
   "version": "3.8.8"
  }
 },
 "nbformat": 4,
 "nbformat_minor": 5
}
