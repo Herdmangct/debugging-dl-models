{
 "cells": [
  {
   "cell_type": "code",
   "execution_count": 1,
   "metadata": {},
   "outputs": [],
   "source": [
    "import tensorflow as tf"
   ]
  },
  {
   "cell_type": "code",
   "execution_count": 2,
   "metadata": {},
   "outputs": [],
   "source": [
    "mnist = tf.keras.datasets.mnist"
   ]
  },
  {
   "cell_type": "code",
   "execution_count": 19,
   "metadata": {},
   "outputs": [],
   "source": [
    "(x_train, y_train), (x_test, y_test) = mnist.load_data()"
   ]
  },
  {
   "cell_type": "code",
   "execution_count": 20,
   "metadata": {},
   "outputs": [],
   "source": [
    "x_train, x_test = x_train / 255.0, x_test / 255.0"
   ]
  },
  {
   "cell_type": "code",
   "execution_count": 21,
   "metadata": {},
   "outputs": [],
   "source": [
    "x_train = tf.expand_dims(x_train[:1000].astype('float32'), axis=-1)\n",
    "x_test = tf.expand_dims(x_test[:500].astype('float32'), axis=-1)"
   ]
  },
  {
   "cell_type": "code",
   "execution_count": 22,
   "metadata": {},
   "outputs": [
    {
     "data": {
      "text/plain": [
       "TensorShape([1000, 28, 28, 1])"
      ]
     },
     "execution_count": 22,
     "metadata": {},
     "output_type": "execute_result"
    }
   ],
   "source": [
    "x_train.shape"
   ]
  },
  {
   "cell_type": "code",
   "execution_count": 23,
   "metadata": {},
   "outputs": [],
   "source": [
    "# Make datasets\n",
    "train_ds = tf.data.Dataset.from_tensor_slices((x_train, y_train[:1000])).shuffle(1000).batch(32)\n",
    "test_ds = tf.data.Dataset.from_tensor_slices((x_test, y_test[:500])).batch(32)"
   ]
  },
  {
   "cell_type": "code",
   "execution_count": 30,
   "metadata": {},
   "outputs": [],
   "source": [
    "class MyModel(tf.keras.Model):\n",
    "    \n",
    "    def __init__(self, loss, optimizer):\n",
    "        super(MyModel, self).__init__()\n",
    "        self.conv1 = tf.keras.layers.Conv2D(32, 3, activation='relu')\n",
    "        self.flatten = tf.keras.layers.Flatten()\n",
    "        self.dense1 = tf.keras.layers.Dense(128, activation='relu')\n",
    "        self.dense_out = tf.keras.layers.Dense(10, activation='linear')\n",
    "        \n",
    "        self.loss = loss\n",
    "        self.optimizer = optimizer\n",
    "        \n",
    "    def call(self, x):\n",
    "        x = self.conv1(x)\n",
    "        x = self.flatten(x)\n",
    "        x = self.dense1(x)\n",
    "        return self.dense_out(x)\n",
    "\n",
    "    def train_step(self, images, labels):\n",
    "        with tf.GradientTape() as tape:\n",
    "            pred = self(images)\n",
    "            loss = self.loss(labels, pred)\n",
    "        gradients = tape.gradient(loss, self.trainable_variables)\n",
    "        self.optimizer.apply_gradients(zip(gradients, self.trainable_variables))\n",
    "        return pred, loss\n",
    "\n",
    "    def test_step(self, images, labels):\n",
    "        pred = self(images)\n",
    "        loss = self.loss(labels, pred)\n",
    "        return pred, loss"
   ]
  },
  {
   "cell_type": "code",
   "execution_count": 35,
   "metadata": {},
   "outputs": [],
   "source": [
    "loss_obj = tf.keras.losses.SparseCategoricalCrossentropy(from_logits=True)\n",
    "optimizer = tf.keras.optimizers.Adam(0.00001)"
   ]
  },
  {
   "cell_type": "code",
   "execution_count": 36,
   "metadata": {},
   "outputs": [],
   "source": [
    "model = MyModel(loss=loss_obj, optimizer=optimizer)"
   ]
  },
  {
   "cell_type": "code",
   "execution_count": 37,
   "metadata": {},
   "outputs": [],
   "source": [
    "train_loss = tf.keras.metrics.Mean()\n",
    "test_loss = tf.keras.metrics.Mean()\n",
    "\n",
    "train_acc = tf.keras.metrics.SparseCategoricalAccuracy()\n",
    "test_acc = tf.keras.metrics.SparseCategoricalAccuracy()"
   ]
  },
  {
   "cell_type": "code",
   "execution_count": 38,
   "metadata": {},
   "outputs": [],
   "source": [
    "EPOCHS = 5\n",
    "\n",
    "writer = tf.summary.create_file_writer('summaries/live_mnist/run2')\n",
    "\n",
    "\n",
    "for epoch in range(EPOCHS):\n",
    "    \n",
    "    train_loss.reset_states()\n",
    "    test_loss.reset_states()\n",
    "    train_acc.reset_states()\n",
    "    test_acc.reset_states()\n",
    "    \n",
    "    for train_images, train_labels in train_ds:\n",
    "        pred_train, loss_train = model.train_step(train_images, train_labels)\n",
    "        train_loss(loss_train)\n",
    "        train_acc(train_labels, pred_train)\n",
    "        \n",
    "    for test_images, test_labels in test_ds:\n",
    "        pred_test, loss_test = model.test_step(test_images, test_labels)\n",
    "        test_loss(loss_test)\n",
    "        test_acc(test_labels, pred_test)\n",
    "        \n",
    "        \n",
    "    with writer.as_default():\n",
    "        tf.summary.scalar('Train loss', train_loss.result(), step=epoch)\n",
    "        tf.summary.scalar('Train accuracy', train_acc.result(), step=epoch)\n",
    "        tf.summary.scalar('Test loss', test_loss.result(), step=epoch)\n",
    "        tf.summary.scalar('Test accuracy', test_acc.result(), step=epoch)\n",
    "    "
   ]
  },
  {
   "cell_type": "code",
   "execution_count": null,
   "metadata": {},
   "outputs": [],
   "source": []
  }
 ],
 "metadata": {
  "kernelspec": {
   "display_name": "Python 3",
   "language": "python",
   "name": "python3"
  },
  "language_info": {
   "codemirror_mode": {
    "name": "ipython",
    "version": 3
   },
   "file_extension": ".py",
   "mimetype": "text/x-python",
   "name": "python",
   "nbconvert_exporter": "python",
   "pygments_lexer": "ipython3",
   "version": "3.6.9"
  }
 },
 "nbformat": 4,
 "nbformat_minor": 4
}
