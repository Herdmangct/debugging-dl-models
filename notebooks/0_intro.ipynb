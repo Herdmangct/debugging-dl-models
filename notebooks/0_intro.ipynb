{
 "cells": [
  {
   "cell_type": "markdown",
   "metadata": {},
   "source": [
    "# What and when for today?\n",
    "\n",
    "- 9:30 - 10:00: Why debugging is important?\n",
    "- 10:00 - 11:00: Most common bugs I.\n",
    "- 11:00 - 11:10: Break\n",
    "- 11:10 - 12:00: Most common bugs II.\n",
    "- 12:00 - 12:30: Introduction to PyCharm debugger, TF2 and tensorboard\n",
    "- 12:30 - 13:00: Small debugging project I\n",
    "- 13:00 - 14:00: Lunch\n",
    "- 14:00 - 14:30: Small debugging project II \n",
    "- 14:30 - 15:00: Implementing a bug free model.\n",
    "- 15:00 - 15:10: Break\n",
    "- 15:10 - 15:40: Bias-variance trade-off\n",
    "- 15:40 - 16:10: Advanced debugging: \"Relevance Propagation\"\n",
    "- 16:10 - 16:20: Break\n",
    "- 16:20 - 18:00: Live coding relevance propagation"
   ]
  },
  {
   "cell_type": "markdown",
   "metadata": {},
   "source": [
    "\n",
    "# Why DL debugging is important and hard?\n",
    "\n",
    " <img src = \"../assets/karpathy_debug.png\" width=\"600\" height=\"400\">\n",
    " \n",
    "#### Common sentiment among practitioners:\n",
    "\n",
    "   - 80% - 90% of time debugging and tuning\n",
    "   - 20% - 10% deriving math and implementing new ideas"
   ]
  },
  {
   "cell_type": "markdown",
   "metadata": {},
   "source": [
    "## Poor model performance\n",
    "- Often one can estimate how a model should perform, using either previous baselines or simply common sense. For example, on MNIST a model should have accuracy more than 0.1, which is just a random guess.\n",
    "\n",
    "- Contributions to poor model performance:\n",
    "\n",
    "<img src = \"../assets/poor_model_perf_5.png\" style = \"width: 500px;\" align=\"center\">\n"
   ]
  },
  {
   "cell_type": "markdown",
   "metadata": {},
   "source": [
    "## Implementation bugs\n",
    "\n",
    "Often deep learning bugs are hard to see. A model can still run the training loop, but won't learn anything.\n",
    "\n",
    "My real life example:\n",
    "\n",
    "<img src = \"../assets/loss_with_bug.png\" width=\"600\" height=\"400\" align=\"center\"/>"
   ]
  },
  {
   "cell_type": "markdown",
   "metadata": {},
   "source": [
    "### Tiny exercise.\n",
    "\n",
    "Where is the bug?\n",
    "\n",
    "<img src = \"../assets/my_bug.png\" width=\"600\" height=\"400\" align=\"center\"/>"
   ]
  },
  {
   "cell_type": "markdown",
   "metadata": {},
   "source": [
    "Uncomment the line below in this block to see the answer:\n",
    "\n",
    "<!---\n",
    "<img src = \"../assets/my_bug_found.png\" width=\"600\" height=\"400\" align=\"center\"/>\n",
    "--->"
   ]
  },
  {
   "cell_type": "markdown",
   "metadata": {},
   "source": [
    "## Hyperparameter choices\n",
    "\n",
    "### Learning rate\n",
    "\n",
    "- Deep learning models are highly sensitive to the choice of the learning rate\n",
    "\n",
    "<img src = \"../assets/learning_rate.png\" width=\"500\" height=\"400\" align=\"center\"/>\n",
    "\n",
    "\n",
    "### Initialisation\n",
    "\n",
    "- Sometimes it matters a lot how one initialises the weights\n",
    "\n",
    "<img src = \"../assets/initialisation_bug.png\" width=\"500\" height=\"400\" align=\"center\"/>"
   ]
  },
  {
   "cell_type": "markdown",
   "metadata": {},
   "source": [
    "## Data/Model fit\n",
    "\n",
    "- Training set data is not suitable for the model of interest\n",
    "\n",
    "### Imagenet dataset\n",
    "\n",
    "<img src = \"../assets/imagenet_pics.png\" width=\"500\" height=\"400\" align=\"center\"/>\n",
    "\n",
    "### Plant disease detection\n",
    "\n",
    "<img src = \"../assets/plants_disease.png\" width=\"500\" height=\"400\" align=\"left\"/>\n"
   ]
  },
  {
   "cell_type": "markdown",
   "metadata": {},
   "source": [
    "## Dataset construction\n",
    "\n",
    "- It's difficult to construct a good dataset\n",
    "\n",
    "<img src = \"../assets/lost_sleep.png\" width=\"500\" height=\"400\" align=\"left\"/>"
   ]
  },
  {
   "cell_type": "markdown",
   "metadata": {},
   "source": [
    "### Common issues:\n",
    "\n",
    "- Not enough data\n",
    "- Class imbalance\n",
    "- Noisy labels\n",
    "- Train/Test from different distributions\n",
    "- etc"
   ]
  },
  {
   "cell_type": "markdown",
   "metadata": {},
   "source": [
    "# Summary\n",
    "\n",
    "- Hard to tell if there is a bug\n",
    "- Many possible sources for the same degradation in performance\n",
    "- Results can be highly sensitive to small changes in hyperparameters or dataset construction"
   ]
  },
  {
   "cell_type": "code",
   "execution_count": null,
   "metadata": {},
   "outputs": [],
   "source": []
  }
 ],
 "metadata": {
  "kernelspec": {
   "display_name": "Python 3",
   "language": "python",
   "name": "python3"
  },
  "language_info": {
   "codemirror_mode": {
    "name": "ipython",
    "version": 3
   },
   "file_extension": ".py",
   "mimetype": "text/x-python",
   "name": "python",
   "nbconvert_exporter": "python",
   "pygments_lexer": "ipython3",
   "version": "3.6.9"
  }
 },
 "nbformat": 4,
 "nbformat_minor": 4
}
